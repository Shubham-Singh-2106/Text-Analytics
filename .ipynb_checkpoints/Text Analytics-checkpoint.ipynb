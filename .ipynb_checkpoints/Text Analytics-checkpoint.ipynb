{
 "cells": [
  {
   "cell_type": "code",
   "execution_count": 1,
   "id": "9e96375f",
   "metadata": {},
   "outputs": [],
   "source": [
    "import pandas as pd\n",
    "import numpy as np\n",
    "import matplotlib.pyplot as plt\n",
    "import seaborn as sns\n",
    "import docx\n",
    "\n",
    "plt.style.use('ggplot')\n",
    "\n",
    "import nltk"
   ]
  },
  {
   "cell_type": "code",
   "execution_count": 2,
   "id": "3c475b37",
   "metadata": {},
   "outputs": [],
   "source": [
    "doc = docx.Document('Files_1-99(Rem1).DOCX')\n"
   ]
  },
  {
   "cell_type": "code",
   "execution_count": 3,
   "id": "b32fb6c3",
   "metadata": {},
   "outputs": [
    {
     "data": {
      "text/plain": [
       "40"
      ]
     },
     "execution_count": 3,
     "metadata": {},
     "output_type": "execute_result"
    }
   ],
   "source": [
    "all_paras = doc.paragraphs\n",
    "len(all_paras)"
   ]
  },
  {
   "cell_type": "code",
   "execution_count": 4,
   "id": "03624b2b",
   "metadata": {},
   "outputs": [
    {
     "name": "stdout",
     "output_type": "stream",
     "text": [
      "\n",
      "-------\n",
      "\n",
      "\n",
      "-------\n",
      "\n",
      "-------\n",
      "Yourstory.in\n",
      "-------\n",
      "April 15, 2022 Friday 6:30 AM EST\n",
      "-------\n",
      "\n",
      "-------\n",
      "\n",
      "Copyright 2022 Yourstory.in, distributed by Contify.com All Rights Reserved\n",
      "-------\n",
      "Length: 672 words\n",
      "-------\n",
      "Byline: Team Ys\n",
      "-------\n",
      "Body\n",
      "-------\n",
      "\n",
      "-------\n",
      "\n",
      "-------\n",
      "Between juggling multiple dream projects and managing investors as well as consumer expectations, startup founders have a tough job. But is it easier for second-time entrepreneurs? This week on YourStory UNCUT, seasoned entrepreneur Brijraj Bhuptani answers this question.\n",
      "-------\n",
      "Between juggling multiple dream projects and managing investors as well as consumer expectations, startup founders have a tough job. But is it easier for second-time entrepreneurs?\n",
      "-------\n",
      "This week on YourStory UNCUT, seasoned entrepreneur Brijraj Bhuptani answers this question.\n",
      "-------\n",
      "Former Chief Product and Technology Officer at Ola, Brijraj shares his entrepreneurial journey so far from founding Ridlr, to working at Ola, and then starting Spry in May last year, which he runs currently.\n",
      "-------\n",
      "While Brijraj and his team at Ridlr worked on several cool projects in the early years of his entrepreneurship journey, he also had to learn some tough lessons.\n",
      "-------\n",
      "Looking back at the hurdles today, Brijraj believes that hard work is not always the way out of challenging times.\n",
      "-------\n",
      "\"During childhood, we are taught that 'mehnat karo, kuch na kuch ho jayega' (work hard and you will figure something out), but that is not always the case,\" he says, adding that there should be deep introspection about what one does, and how they do it. Read more.\n",
      "-------\n",
      "The Interview\n",
      "-------\n",
      "Suhani Shah is a mentalist who has been ruling the internet with her tricks and performances. In this episode of #InfluencersInc by YourStory, Suhani talks about her journey in the world of magic and discusses future plans.\n",
      "-------\n",
      "In this week's App Friday, we looked at the Neend app, which is currently available free of cost on the Google Play Store. It offers stories, sleep sounds, and meditation techniques in English, Hindi, and Marathi.\n",
      "-------\n",
      "The app aims to add more regional languages so users can consume relatable content. Read more.\n",
      "-------\n",
      "Startup Spotlight\n",
      "-------\n",
      "A Bijliride to success\n",
      "-------\n",
      "Bijliride is a Hyderabad-based electric scooter rental company addressing both climate control and economical travel options.\n",
      "-------\n",
      "It offers daily, weekly, and monthly rental subscription services for electric vehicles across Hyderabad. The startup also offers 24X7 customer service, on-road battery swapping within 30 minutes and minimal recharging costs at stations. Read more.\n",
      "-------\n",
      "Billionaire Elon Musk has offered to buy Twitter for $54.20 per share, in an all-cash deal, according to the US SEC filing. Musk bought a 9.3 percent stake in the company earlier this month, becoming the largest shareholder in the social media platform.\n",
      "-------\n",
      "Kotak Bank has temporarily halted payments to and from their exchange partner CoinSwitch Kuber. While there has been no official communication on halting financial services for crypto exchanges, the current regulatory environment has encouraged caution.\n",
      "-------\n",
      "Stay Updated Get stories of change makers and innovators from the startup ecosystem in your inbox Please fill in this field. {{#error}} {{error}} {{/error}} {{^error}} Something went wrong. Try again later {{/error}} Welcome Onboard ! You have been successfully registered for our daily newsletter.\n",
      "-------\n",
      "In a move that could further heat up an already mercurial payments space, the National Payments Corporation of India (NPCI) told WhatsApp it could roll out its UPI payments service to 60 million additional users, taking the total number it can cater to 100 million total users.\n",
      "-------\n",
      "Ethereum scaling project Polygon announced its partnership with tech upskilling startup AlmaBetter to offer blockchain and Web 3.0 development courses. The collaborative programme aims to assist young professionals, and AlmaBetter plans to utilise Polygon's resources to produce training modules for its students to establish a foothold in the rapidly increasing Web 3.0 upskilling sector.\n",
      "-------\n",
      "Nearly a year after it announced the acquisition of a significant majority stake in indigenous app store Indus OS, Walmart-backed payments company PhonePe has reached an out-of-court settlement with investors in the company blocking the deal.\n",
      "-------\n",
      "Before you go, stay inspired with\n",
      "-------\n",
      "\"Be educated, be organised, and be agitated.\"\n",
      "-------\n",
      "\n",
      "Load-Date: April 15, 2022\n",
      "-------\n",
      "\n",
      "-------\n",
      "\n",
      "End of Document\n",
      "-------\n",
      "\n",
      "-------\n",
      "\n",
      "-------\n"
     ]
    }
   ],
   "source": [
    "for para in all_paras:\n",
    "    print(para.text)\n",
    "    print(\"-------\")"
   ]
  },
  {
   "cell_type": "code",
   "execution_count": 5,
   "id": "0bbb89f8",
   "metadata": {},
   "outputs": [],
   "source": [
    "start_paragraph_num = 13\n",
    "end_paragraph_num = 35"
   ]
  },
  {
   "cell_type": "markdown",
   "id": "ef2171cb",
   "metadata": {},
   "source": [
    "start_paragraph_num = 13\n",
    "end_paragraph_num = 35"
   ]
  },
  {
   "cell_type": "code",
   "execution_count": 6,
   "id": "ac7e34f3",
   "metadata": {},
   "outputs": [],
   "source": [
    "selected_paragraphs = []"
   ]
  },
  {
   "cell_type": "code",
   "execution_count": 7,
   "id": "085a63d0",
   "metadata": {},
   "outputs": [],
   "source": [
    "for paragraph_num, paragraph in enumerate(all_paras, start=1):\n",
    "    if start_paragraph_num <= paragraph_num <= end_paragraph_num:\n",
    "        selected_paragraphs.append(paragraph.text)"
   ]
  },
  {
   "cell_type": "code",
   "execution_count": 8,
   "id": "74365fcc",
   "metadata": {},
   "outputs": [],
   "source": [
    "df = pd.DataFrame({'Paragraphs': selected_paragraphs})"
   ]
  },
  {
   "cell_type": "code",
   "execution_count": 9,
   "id": "c6506f2e",
   "metadata": {},
   "outputs": [
    {
     "name": "stdout",
     "output_type": "stream",
     "text": [
      "                                           Paragraphs\n",
      "0   Between juggling multiple dream projects and m...\n",
      "1   Between juggling multiple dream projects and m...\n",
      "2   This week on YourStory UNCUT, seasoned entrepr...\n",
      "3   Former Chief Product and Technology Officer at...\n",
      "4   While Brijraj and his team at Ridlr worked on ...\n",
      "5   Looking back at the hurdles today, Brijraj bel...\n",
      "6   \"During childhood, we are taught that 'mehnat ...\n",
      "7                                       The Interview\n",
      "8   Suhani Shah is a mentalist who has been ruling...\n",
      "9   In this week's App Friday, we looked at the Ne...\n",
      "10  The app aims to add more regional languages so...\n",
      "11                                  Startup Spotlight\n",
      "12                             A Bijliride to success\n",
      "13  Bijliride is a Hyderabad-based electric scoote...\n",
      "14  It offers daily, weekly, and monthly rental su...\n",
      "15  Billionaire Elon Musk has offered to buy Twitt...\n",
      "16  Kotak Bank has temporarily halted payments to ...\n",
      "17  Stay Updated Get stories of change makers and ...\n",
      "18  In a move that could further heat up an alread...\n",
      "19  Ethereum scaling project Polygon announced its...\n",
      "20  Nearly a year after it announced the acquisiti...\n",
      "21                  Before you go, stay inspired with\n",
      "22      \"Be educated, be organised, and be agitated.\"\n"
     ]
    }
   ],
   "source": [
    "print(df)"
   ]
  },
  {
   "cell_type": "code",
   "execution_count": 10,
   "id": "ecdd344f",
   "metadata": {},
   "outputs": [
    {
     "name": "stdout",
     "output_type": "stream",
     "text": [
      "    ID                                         Paragraphs\n",
      "0    0  Between juggling multiple dream projects and m...\n",
      "1    1  Between juggling multiple dream projects and m...\n",
      "2    2  This week on YourStory UNCUT, seasoned entrepr...\n",
      "3    3  Former Chief Product and Technology Officer at...\n",
      "4    4  While Brijraj and his team at Ridlr worked on ...\n",
      "5    5  Looking back at the hurdles today, Brijraj bel...\n",
      "6    6  \"During childhood, we are taught that 'mehnat ...\n",
      "7    7                                      The Interview\n",
      "8    8  Suhani Shah is a mentalist who has been ruling...\n",
      "9    9  In this week's App Friday, we looked at the Ne...\n",
      "10  10  The app aims to add more regional languages so...\n",
      "11  11                                  Startup Spotlight\n",
      "12  12                             A Bijliride to success\n",
      "13  13  Bijliride is a Hyderabad-based electric scoote...\n",
      "14  14  It offers daily, weekly, and monthly rental su...\n",
      "15  15  Billionaire Elon Musk has offered to buy Twitt...\n",
      "16  16  Kotak Bank has temporarily halted payments to ...\n",
      "17  17  Stay Updated Get stories of change makers and ...\n",
      "18  18  In a move that could further heat up an alread...\n",
      "19  19  Ethereum scaling project Polygon announced its...\n",
      "20  20  Nearly a year after it announced the acquisiti...\n",
      "21  21                  Before you go, stay inspired with\n",
      "22  22      \"Be educated, be organised, and be agitated.\"\n"
     ]
    }
   ],
   "source": [
    "# Reset the index and rename the column\n",
    "df = df.reset_index().rename(columns={'index': 'ID'})\n",
    "\n",
    "# Print the updated DataFrame\n",
    "print(df)\n"
   ]
  },
  {
   "cell_type": "code",
   "execution_count": 11,
   "id": "4e4192b9",
   "metadata": {},
   "outputs": [
    {
     "name": "stdout",
     "output_type": "stream",
     "text": [
      "This week on YourStory UNCUT, seasoned entrepreneur Brijraj Bhuptani answers this question.\n"
     ]
    }
   ],
   "source": [
    "example = df['Paragraphs'][2]\n",
    "print(example)"
   ]
  },
  {
   "cell_type": "code",
   "execution_count": 12,
   "id": "e9354583",
   "metadata": {},
   "outputs": [
    {
     "name": "stderr",
     "output_type": "stream",
     "text": [
      "[nltk_data] Downloading package punkt to\n",
      "[nltk_data]     C:\\Users\\ASUS\\AppData\\Roaming\\nltk_data...\n",
      "[nltk_data]   Package punkt is already up-to-date!\n",
      "[nltk_data] Downloading package averaged_perceptron_tagger to\n",
      "[nltk_data]     C:\\Users\\ASUS\\AppData\\Roaming\\nltk_data...\n",
      "[nltk_data]   Package averaged_perceptron_tagger is already up-to-\n",
      "[nltk_data]       date!\n",
      "[nltk_data] Downloading package maxent_ne_chunker to\n",
      "[nltk_data]     C:\\Users\\ASUS\\AppData\\Roaming\\nltk_data...\n",
      "[nltk_data]   Package maxent_ne_chunker is already up-to-date!\n",
      "[nltk_data] Downloading package words to\n",
      "[nltk_data]     C:\\Users\\ASUS\\AppData\\Roaming\\nltk_data...\n",
      "[nltk_data]   Package words is already up-to-date!\n",
      "[nltk_data] Downloading package vader_lexicon to\n",
      "[nltk_data]     C:\\Users\\ASUS\\AppData\\Roaming\\nltk_data...\n",
      "[nltk_data]   Package vader_lexicon is already up-to-date!\n"
     ]
    },
    {
     "data": {
      "text/plain": [
       "True"
      ]
     },
     "execution_count": 12,
     "metadata": {},
     "output_type": "execute_result"
    }
   ],
   "source": [
    "import nltk\n",
    "nltk.download('punkt')\n",
    "nltk.download('averaged_perceptron_tagger')\n",
    "nltk.download('maxent_ne_chunker')\n",
    "nltk.download('words')\n",
    "nltk.download('vader_lexicon')"
   ]
  },
  {
   "cell_type": "code",
   "execution_count": 13,
   "id": "558c0f1f",
   "metadata": {},
   "outputs": [
    {
     "data": {
      "text/plain": [
       "['This',\n",
       " 'week',\n",
       " 'on',\n",
       " 'YourStory',\n",
       " 'UNCUT',\n",
       " ',',\n",
       " 'seasoned',\n",
       " 'entrepreneur',\n",
       " 'Brijraj',\n",
       " 'Bhuptani']"
      ]
     },
     "execution_count": 13,
     "metadata": {},
     "output_type": "execute_result"
    }
   ],
   "source": [
    "tokens = nltk.word_tokenize(example)\n",
    "tokens[:10]"
   ]
  },
  {
   "cell_type": "code",
   "execution_count": 14,
   "id": "3a2f17df",
   "metadata": {},
   "outputs": [
    {
     "data": {
      "text/plain": [
       "[('This', 'DT'),\n",
       " ('week', 'NN'),\n",
       " ('on', 'IN'),\n",
       " ('YourStory', 'NNP'),\n",
       " ('UNCUT', 'NNP'),\n",
       " (',', ','),\n",
       " ('seasoned', 'VBD'),\n",
       " ('entrepreneur', 'NN'),\n",
       " ('Brijraj', 'NNP'),\n",
       " ('Bhuptani', 'NNP')]"
      ]
     },
     "execution_count": 14,
     "metadata": {},
     "output_type": "execute_result"
    }
   ],
   "source": [
    "tagged = nltk.pos_tag(tokens)\n",
    "tagged[:10]"
   ]
  },
  {
   "cell_type": "code",
   "execution_count": 15,
   "id": "c668cb7e",
   "metadata": {},
   "outputs": [
    {
     "name": "stdout",
     "output_type": "stream",
     "text": [
      "(S\n",
      "  This/DT\n",
      "  week/NN\n",
      "  on/IN\n",
      "  (ORGANIZATION YourStory/NNP)\n",
      "  UNCUT/NNP\n",
      "  ,/,\n",
      "  seasoned/VBD\n",
      "  entrepreneur/NN\n",
      "  (PERSON Brijraj/NNP Bhuptani/NNP)\n",
      "  answers/VBZ\n",
      "  this/DT\n",
      "  question/NN\n",
      "  ./.)\n"
     ]
    }
   ],
   "source": [
    "entities = nltk.chunk.ne_chunk(tagged)\n",
    "entities.pprint()"
   ]
  },
  {
   "cell_type": "code",
   "execution_count": 16,
   "id": "c8dc2736",
   "metadata": {},
   "outputs": [],
   "source": [
    "from nltk.sentiment import SentimentIntensityAnalyzer\n",
    "from tqdm.notebook import tqdm\n",
    "\n",
    "sia = SentimentIntensityAnalyzer()"
   ]
  },
  {
   "cell_type": "code",
   "execution_count": 17,
   "id": "9fad82e7",
   "metadata": {},
   "outputs": [
    {
     "data": {
      "text/plain": [
       "{'neg': 0.0, 'neu': 1.0, 'pos': 0.0, 'compound': 0.0}"
      ]
     },
     "execution_count": 17,
     "metadata": {},
     "output_type": "execute_result"
    }
   ],
   "source": [
    "sia.polarity_scores(example)"
   ]
  },
  {
   "cell_type": "code",
   "execution_count": 18,
   "id": "4723f0cc",
   "metadata": {},
   "outputs": [
    {
     "data": {
      "application/vnd.jupyter.widget-view+json": {
       "model_id": "46616483ade14909b62756a8a0353bd0",
       "version_major": 2,
       "version_minor": 0
      },
      "text/plain": [
       "  0%|          | 0/23 [00:00<?, ?it/s]"
      ]
     },
     "metadata": {},
     "output_type": "display_data"
    }
   ],
   "source": [
    "res = {}\n",
    "for i, row in tqdm(df.iterrows(), total=len(df)):\n",
    "    text = row['Paragraphs']\n",
    "    myid = row['ID']\n",
    "    res[myid] = sia.polarity_scores(text)"
   ]
  },
  {
   "cell_type": "code",
   "execution_count": 19,
   "id": "f58a9940",
   "metadata": {},
   "outputs": [],
   "source": [
    "vaders = pd.DataFrame(res).T\n",
    "vaders = vaders.reset_index().rename(columns={'index': 'ID'})\n",
    "vaders = vaders.merge(df, how='left')"
   ]
  },
  {
   "cell_type": "code",
   "execution_count": 20,
   "id": "bdd96dd4",
   "metadata": {},
   "outputs": [
    {
     "data": {
      "text/html": [
       "<div>\n",
       "<style scoped>\n",
       "    .dataframe tbody tr th:only-of-type {\n",
       "        vertical-align: middle;\n",
       "    }\n",
       "\n",
       "    .dataframe tbody tr th {\n",
       "        vertical-align: top;\n",
       "    }\n",
       "\n",
       "    .dataframe thead th {\n",
       "        text-align: right;\n",
       "    }\n",
       "</style>\n",
       "<table border=\"1\" class=\"dataframe\">\n",
       "  <thead>\n",
       "    <tr style=\"text-align: right;\">\n",
       "      <th></th>\n",
       "      <th>ID</th>\n",
       "      <th>neg</th>\n",
       "      <th>neu</th>\n",
       "      <th>pos</th>\n",
       "      <th>compound</th>\n",
       "      <th>Paragraphs</th>\n",
       "    </tr>\n",
       "  </thead>\n",
       "  <tbody>\n",
       "    <tr>\n",
       "      <th>0</th>\n",
       "      <td>0</td>\n",
       "      <td>0.030</td>\n",
       "      <td>0.805</td>\n",
       "      <td>0.165</td>\n",
       "      <td>0.6705</td>\n",
       "      <td>Between juggling multiple dream projects and m...</td>\n",
       "    </tr>\n",
       "    <tr>\n",
       "      <th>1</th>\n",
       "      <td>1</td>\n",
       "      <td>0.043</td>\n",
       "      <td>0.724</td>\n",
       "      <td>0.233</td>\n",
       "      <td>0.6705</td>\n",
       "      <td>Between juggling multiple dream projects and m...</td>\n",
       "    </tr>\n",
       "    <tr>\n",
       "      <th>2</th>\n",
       "      <td>2</td>\n",
       "      <td>0.000</td>\n",
       "      <td>1.000</td>\n",
       "      <td>0.000</td>\n",
       "      <td>0.0000</td>\n",
       "      <td>This week on YourStory UNCUT, seasoned entrepr...</td>\n",
       "    </tr>\n",
       "    <tr>\n",
       "      <th>3</th>\n",
       "      <td>3</td>\n",
       "      <td>0.000</td>\n",
       "      <td>0.937</td>\n",
       "      <td>0.062</td>\n",
       "      <td>0.2960</td>\n",
       "      <td>Former Chief Product and Technology Officer at...</td>\n",
       "    </tr>\n",
       "    <tr>\n",
       "      <th>4</th>\n",
       "      <td>4</td>\n",
       "      <td>0.050</td>\n",
       "      <td>0.872</td>\n",
       "      <td>0.077</td>\n",
       "      <td>0.2023</td>\n",
       "      <td>While Brijraj and his team at Ridlr worked on ...</td>\n",
       "    </tr>\n",
       "  </tbody>\n",
       "</table>\n",
       "</div>"
      ],
      "text/plain": [
       "   ID    neg    neu    pos  compound  \\\n",
       "0   0  0.030  0.805  0.165    0.6705   \n",
       "1   1  0.043  0.724  0.233    0.6705   \n",
       "2   2  0.000  1.000  0.000    0.0000   \n",
       "3   3  0.000  0.937  0.062    0.2960   \n",
       "4   4  0.050  0.872  0.077    0.2023   \n",
       "\n",
       "                                          Paragraphs  \n",
       "0  Between juggling multiple dream projects and m...  \n",
       "1  Between juggling multiple dream projects and m...  \n",
       "2  This week on YourStory UNCUT, seasoned entrepr...  \n",
       "3  Former Chief Product and Technology Officer at...  \n",
       "4  While Brijraj and his team at Ridlr worked on ...  "
      ]
     },
     "execution_count": 20,
     "metadata": {},
     "output_type": "execute_result"
    }
   ],
   "source": [
    "vaders.head()"
   ]
  },
  {
   "cell_type": "code",
   "execution_count": 22,
   "id": "305f39d8",
   "metadata": {},
   "outputs": [
    {
     "data": {
      "image/png": "[encoded data removed]",
      "text/plain": [
       "<Figure size 640x480 with 1 Axes>"
      ]
     },
     "metadata": {},
     "output_type": "display_data"
    }
   ],
   "source": [
    "ax = sns.barplot(data=vaders, x='ID', y='compound')\n",
    "ax.set_title('Compund Score by Paragraphs')\n",
    "plt.show()"
   ]
  },
  {
   "cell_type": "code",
   "execution_count": 23,
   "id": "5f4dd3ea",
   "metadata": {},
   "outputs": [
    {
     "data": {
      "image/png": "[encoded data removed]",
      "text/plain": [
       "<Figure size 1200x300 with 3 Axes>"
      ]
     },
     "metadata": {},
     "output_type": "display_data"
    }
   ],
   "source": [
    "fig, axs = plt.subplots(1, 3, figsize=(12, 3))\n",
    "sns.barplot(data=vaders, x='ID', y='pos', ax=axs[0])\n",
    "sns.barplot(data=vaders, x='ID', y='neu', ax=axs[1])\n",
    "sns.barplot(data=vaders, x='ID', y='neg', ax=axs[2])\n",
    "axs[0].set_title('Positive')\n",
    "axs[1].set_title('Neutral')\n",
    "axs[2].set_title('Negative')\n",
    "plt.tight_layout()\n",
    "plt.show()"
   ]
  },
  {
   "cell_type": "code",
   "execution_count": 33,
   "id": "c4084d84",
   "metadata": {},
   "outputs": [],
   "source": [
    "from transformers import AutoTokenizer\n",
    "from transformers import AutoModelForSequenceClassification\n",
    "from scipy.special import softmax"
   ]
  },
  {
   "cell_type": "code",
   "execution_count": 34,
   "id": "1031f165",
   "metadata": {},
   "outputs": [
    {
     "data": {
      "application/vnd.jupyter.widget-view+json": {
       "model_id": "18d25763892e4824bb6c722fb7c7281b",
       "version_major": 2,
       "version_minor": 0
      },
      "text/plain": [
       "Downloading (…)lve/main/config.json:   0%|          | 0.00/747 [00:00<?, ?B/s]"
      ]
     },
     "metadata": {},
     "output_type": "display_data"
    },
    {
     "name": "stderr",
     "output_type": "stream",
     "text": [
      "C:\\Users\\ASUS\\anaconda3\\lib\\site-packages\\huggingface_hub\\file_download.py:133: UserWarning: `huggingface_hub` cache-system uses symlinks by default to efficiently store duplicated files but your machine does not support them in C:\\Users\\ASUS\\.cache\\huggingface\\hub. Caching files will still work but in a degraded version that might require more space on your disk. This warning can be disabled by setting the `HF_HUB_DISABLE_SYMLINKS_WARNING` environment variable. For more details, see https://huggingface.co/docs/huggingface_hub/how-to-cache#limitations.\n",
      "To support symlinks on Windows, you either need to activate Developer Mode or to run Python as an administrator. In order to see activate developer mode, see this article: https://docs.microsoft.com/en-us/windows/apps/get-started/enable-your-device-for-development\n",
      "  warnings.warn(message)\n"
     ]
    },
    {
     "data": {
      "application/vnd.jupyter.widget-view+json": {
       "model_id": "aca8d97f9a5d460fa08e70f41041697a",
       "version_major": 2,
       "version_minor": 0
      },
      "text/plain": [
       "Downloading (…)olve/main/vocab.json: 0.00B [00:00, ?B/s]"
      ]
     },
     "metadata": {},
     "output_type": "display_data"
    },
    {
     "data": {
      "application/vnd.jupyter.widget-view+json": {
       "model_id": "5cc6c82512b3413bb6efd01ffa239c04",
       "version_major": 2,
       "version_minor": 0
      },
      "text/plain": [
       "Downloading (…)olve/main/merges.txt: 0.00B [00:00, ?B/s]"
      ]
     },
     "metadata": {},
     "output_type": "display_data"
    },
    {
     "data": {
      "application/vnd.jupyter.widget-view+json": {
       "model_id": "7f89ffc20f21457fb5c9889a6189fb0b",
       "version_major": 2,
       "version_minor": 0
      },
      "text/plain": [
       "Downloading (…)cial_tokens_map.json:   0%|          | 0.00/150 [00:00<?, ?B/s]"
      ]
     },
     "metadata": {},
     "output_type": "display_data"
    },
    {
     "ename": "ImportError",
     "evalue": "\nAutoModelForSequenceClassification requires the PyTorch library but it was not found in your environment. Checkout the instructions on the\ninstallation page: https://pytorch.org/get-started/locally/ and follow the ones that match your environment.\nPlease note that you may need to restart your runtime after installation.\n",
     "output_type": "error",
     "traceback": [
      "\u001b[1;31m---------------------------------------------------------------------------\u001b[0m",
      "\u001b[1;31mImportError\u001b[0m                               Traceback (most recent call last)",
      "\u001b[1;32m~\\AppData\\Local\\Temp\\ipykernel_27836\\1426438965.py\u001b[0m in \u001b[0;36m<module>\u001b[1;34m\u001b[0m\n\u001b[0;32m      1\u001b[0m \u001b[0mMODEL\u001b[0m \u001b[1;33m=\u001b[0m \u001b[1;34mf\"cardiffnlp/twitter-roberta-base-sentiment\"\u001b[0m\u001b[1;33m\u001b[0m\u001b[1;33m\u001b[0m\u001b[0m\n\u001b[0;32m      2\u001b[0m \u001b[0mtokenizer\u001b[0m \u001b[1;33m=\u001b[0m \u001b[0mAutoTokenizer\u001b[0m\u001b[1;33m.\u001b[0m\u001b[0mfrom_pretrained\u001b[0m\u001b[1;33m(\u001b[0m\u001b[0mMODEL\u001b[0m\u001b[1;33m)\u001b[0m\u001b[1;33m\u001b[0m\u001b[1;33m\u001b[0m\u001b[0m\n\u001b[1;32m----> 3\u001b[1;33m \u001b[0mmodel\u001b[0m \u001b[1;33m=\u001b[0m \u001b[0mAutoModelForSequenceClassification\u001b[0m\u001b[1;33m.\u001b[0m\u001b[0mfrom_pretrained\u001b[0m\u001b[1;33m(\u001b[0m\u001b[0mMODEL\u001b[0m\u001b[1;33m)\u001b[0m\u001b[1;33m\u001b[0m\u001b[1;33m\u001b[0m\u001b[0m\n\u001b[0m",
      "\u001b[1;32m~\\anaconda3\\lib\\site-packages\\transformers\\utils\\import_utils.py\u001b[0m in \u001b[0;36m__getattribute__\u001b[1;34m(cls, key)\u001b[0m\n\u001b[0;32m   1024\u001b[0m         \u001b[1;32mif\u001b[0m \u001b[0mkey\u001b[0m\u001b[1;33m.\u001b[0m\u001b[0mstartswith\u001b[0m\u001b[1;33m(\u001b[0m\u001b[1;34m\"_\"\u001b[0m\u001b[1;33m)\u001b[0m \u001b[1;32mand\u001b[0m \u001b[0mkey\u001b[0m \u001b[1;33m!=\u001b[0m \u001b[1;34m\"_from_config\"\u001b[0m\u001b[1;33m:\u001b[0m\u001b[1;33m\u001b[0m\u001b[1;33m\u001b[0m\u001b[0m\n\u001b[0;32m   1025\u001b[0m             \u001b[1;32mreturn\u001b[0m \u001b[0msuper\u001b[0m\u001b[1;33m(\u001b[0m\u001b[1;33m)\u001b[0m\u001b[1;33m.\u001b[0m\u001b[0m__getattribute__\u001b[0m\u001b[1;33m(\u001b[0m\u001b[0mkey\u001b[0m\u001b[1;33m)\u001b[0m\u001b[1;33m\u001b[0m\u001b[1;33m\u001b[0m\u001b[0m\n\u001b[1;32m-> 1026\u001b[1;33m         \u001b[0mrequires_backends\u001b[0m\u001b[1;33m(\u001b[0m\u001b[0mcls\u001b[0m\u001b[1;33m,\u001b[0m \u001b[0mcls\u001b[0m\u001b[1;33m.\u001b[0m\u001b[0m_backends\u001b[0m\u001b[1;33m)\u001b[0m\u001b[1;33m\u001b[0m\u001b[1;33m\u001b[0m\u001b[0m\n\u001b[0m\u001b[0;32m   1027\u001b[0m \u001b[1;33m\u001b[0m\u001b[0m\n\u001b[0;32m   1028\u001b[0m \u001b[1;33m\u001b[0m\u001b[0m\n",
      "\u001b[1;32m~\\anaconda3\\lib\\site-packages\\transformers\\utils\\import_utils.py\u001b[0m in \u001b[0;36mrequires_backends\u001b[1;34m(obj, backends)\u001b[0m\n\u001b[0;32m   1012\u001b[0m     \u001b[0mfailed\u001b[0m \u001b[1;33m=\u001b[0m \u001b[1;33m[\u001b[0m\u001b[0mmsg\u001b[0m\u001b[1;33m.\u001b[0m\u001b[0mformat\u001b[0m\u001b[1;33m(\u001b[0m\u001b[0mname\u001b[0m\u001b[1;33m)\u001b[0m \u001b[1;32mfor\u001b[0m \u001b[0mavailable\u001b[0m\u001b[1;33m,\u001b[0m \u001b[0mmsg\u001b[0m \u001b[1;32min\u001b[0m \u001b[0mchecks\u001b[0m \u001b[1;32mif\u001b[0m \u001b[1;32mnot\u001b[0m \u001b[0mavailable\u001b[0m\u001b[1;33m(\u001b[0m\u001b[1;33m)\u001b[0m\u001b[1;33m]\u001b[0m\u001b[1;33m\u001b[0m\u001b[1;33m\u001b[0m\u001b[0m\n\u001b[0;32m   1013\u001b[0m     \u001b[1;32mif\u001b[0m \u001b[0mfailed\u001b[0m\u001b[1;33m:\u001b[0m\u001b[1;33m\u001b[0m\u001b[1;33m\u001b[0m\u001b[0m\n\u001b[1;32m-> 1014\u001b[1;33m         \u001b[1;32mraise\u001b[0m \u001b[0mImportError\u001b[0m\u001b[1;33m(\u001b[0m\u001b[1;34m\"\"\u001b[0m\u001b[1;33m.\u001b[0m\u001b[0mjoin\u001b[0m\u001b[1;33m(\u001b[0m\u001b[0mfailed\u001b[0m\u001b[1;33m)\u001b[0m\u001b[1;33m)\u001b[0m\u001b[1;33m\u001b[0m\u001b[1;33m\u001b[0m\u001b[0m\n\u001b[0m\u001b[0;32m   1015\u001b[0m \u001b[1;33m\u001b[0m\u001b[0m\n\u001b[0;32m   1016\u001b[0m \u001b[1;33m\u001b[0m\u001b[0m\n",
      "\u001b[1;31mImportError\u001b[0m: \nAutoModelForSequenceClassification requires the PyTorch library but it was not found in your environment. Checkout the instructions on the\ninstallation page: https://pytorch.org/get-started/locally/ and follow the ones that match your environment.\nPlease note that you may need to restart your runtime after installation.\n"
     ]
    }
   ],
   "source": [
    "MODEL = f\"cardiffnlp/twitter-roberta-base-sentiment\"\n",
    "tokenizer = AutoTokenizer.from_pretrained(MODEL)\n",
    "model = AutoModelForSequenceClassification.from_pretrained(MODEL)"
   ]
  },
  {
   "cell_type": "code",
   "execution_count": 35,
   "id": "12df5626",
   "metadata": {},
   "outputs": [
    {
     "name": "stdout",
     "output_type": "stream",
     "text": [
      "Collecting pytorch\n",
      "  Downloading pytorch-1.0.2.tar.gz (689 bytes)\n",
      "  Preparing metadata (setup.py): started\n",
      "  Preparing metadata (setup.py): finished with status 'done'\n",
      "Building wheels for collected packages: pytorch\n",
      "  Building wheel for pytorch (setup.py): started\n",
      "  Building wheel for pytorch (setup.py): finished with status 'error'\n",
      "  Running setup.py clean for pytorch\n",
      "Failed to build pytorch\n",
      "Installing collected packages: pytorch\n",
      "  Running setup.py install for pytorch: started\n",
      "  Running setup.py install for pytorch: finished with status 'error'\n",
      "Note: you may need to restart the kernel to use updated packages.\n"
     ]
    },
    {
     "name": "stderr",
     "output_type": "stream",
     "text": [
      "  error: subprocess-exited-with-error\n",
      "  \n",
      "  python setup.py bdist_wheel did not run successfully.\n",
      "  exit code: 1\n",
      "  \n",
      "  [6 lines of output]\n",
      "  Traceback (most recent call last):\n",
      "    File \"<string>\", line 2, in <module>\n",
      "    File \"<pip-setuptools-caller>\", line 34, in <module>\n",
      "    File \"C:\\Users\\ASUS\\AppData\\Local\\Temp\\pip-install-v_k9hj1l\\pytorch_44d8b3fb5e0f4e81a41811ba71fb1c16\\setup.py\", line 15, in <module>\n",
      "      raise Exception(message)\n",
      "  Exception: You tried to install \"pytorch\". The package named for PyTorch is \"torch\"\n",
      "  [end of output]\n",
      "  \n",
      "  note: This error originates from a subprocess, and is likely not a problem with pip.\n",
      "  ERROR: Failed building wheel for pytorch\n",
      "  error: subprocess-exited-with-error\n",
      "  \n",
      "  Running setup.py install for pytorch did not run successfully.\n",
      "  exit code: 1\n",
      "  \n",
      "  [6 lines of output]\n",
      "  Traceback (most recent call last):\n",
      "    File \"<string>\", line 2, in <module>\n",
      "    File \"<pip-setuptools-caller>\", line 34, in <module>\n",
      "    File \"C:\\Users\\ASUS\\AppData\\Local\\Temp\\pip-install-v_k9hj1l\\pytorch_44d8b3fb5e0f4e81a41811ba71fb1c16\\setup.py\", line 11, in <module>\n",
      "      raise Exception(message)\n",
      "  Exception: You tried to install \"pytorch\". The package named for PyTorch is \"torch\"\n",
      "  [end of output]\n",
      "  \n",
      "  note: This error originates from a subprocess, and is likely not a problem with pip.\n",
      "error: legacy-install-failure\n",
      "\n",
      "Encountered error while trying to install package.\n",
      "\n",
      "pytorch\n",
      "\n",
      "note: This is an issue with the package mentioned above, not pip.\n",
      "hint: See above for output from the failure.\n"
     ]
    }
   ],
   "source": [
    "pip install pytorch"
   ]
  },
  {
   "cell_type": "code",
   "execution_count": null,
   "id": "472b6772",
   "metadata": {},
   "outputs": [],
   "source": []
  }
 ],
 "metadata": {
  "kernelspec": {
   "display_name": "Python 3 (ipykernel)",
   "language": "python",
   "name": "python3"
  },
  "language_info": {
   "codemirror_mode": {
    "name": "ipython",
    "version": 3
   },
   "file_extension": ".py",
   "mimetype": "text/x-python",
   "name": "python",
   "nbconvert_exporter": "python",
   "pygments_lexer": "ipython3",
   "version": "3.9.13"
  }
 },
 "nbformat": 4,
 "nbformat_minor": 5
}
